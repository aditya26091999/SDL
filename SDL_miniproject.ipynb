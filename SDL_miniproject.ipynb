{
 "cells": [
  {
   "cell_type": "markdown",
   "metadata": {},
   "source": [
    "# Skill Develoment Lab : Mini Project\n",
    "\n",
    "<p>\n",
    "<font color = \"green\" size = \"18\">How Happy are you?</font>\n",
    "<hr>\n",
    "(Source : World Happiness Report, Kaggle.com)   \n",
    "</p>\n"
   ]
  },
  {
   "cell_type": "markdown",
   "metadata": {},
   "source": [
    "<font color = \"red\">Imported the necessary python libraries</font>"
   ]
  },
  {
   "cell_type": "code",
   "execution_count": null,
   "metadata": {},
   "outputs": [],
   "source": [
    "import numpy as np\n",
    "import matplotlib.pyplot as plt\n",
    "import pandas as pd\n",
    "import seaborn as sns"
   ]
  },
  {
   "cell_type": "markdown",
   "metadata": {},
   "source": [
    "<font color = \"red\">Setting the dimensions for aesthetic look of DataFrames"
   ]
  },
  {
   "cell_type": "code",
   "execution_count": null,
   "metadata": {},
   "outputs": [],
   "source": [
    "desired_width = 320\n",
    "pd.set_option(\"display.width\",desired_width)\n",
    "pd.set_option(\"display.max_columns\",20)\n",
    "pd.set_option(\"display.max_rows\",200)"
   ]
  },
  {
   "cell_type": "markdown",
   "metadata": {},
   "source": [
    "<font color = \"red\">\n",
    "    #2015 dataset converted to DataFrame"
   ]
  },
  {
   "cell_type": "code",
   "execution_count": null,
   "metadata": {},
   "outputs": [],
   "source": [
    "var_2015 = pd.read_csv(r'D:\\Projects\\SDL_WHR\\2015.csv',index_col = \"Country\")\n",
    "var_2015 = pd.DataFrame(var_2015)\n",
    "var_2015 = var_2015.rename({'Country': 'C',\n",
    "                            'Region': 'R',\n",
    "                            'Happiness Rank': 'HR',\n",
    "                            'Happiness Score': 'HS',\n",
    "                            'Standard Error':'SE',\n",
    "                            'Economy (GDP per Capita)':'EC',\n",
    "                            'Family':'FA',\n",
    "                            'Health (Life Expectancy)':'HE',\n",
    "                            'Freedom':'FR',\n",
    "                            'Trust (Government Corruption)':'TR',\n",
    "                            'Generosity':'GN',\n",
    "                            'Dystopia Residual':'DR'},\n",
    "                            axis=1)\n",
    "display(var_2015)"
   ]
  },
  {
   "cell_type": "markdown",
   "metadata": {},
   "source": [
    "<font color = \"red\">\n",
    "#2016 dataset converted to DataFrame"
   ]
  },
  {
   "cell_type": "code",
   "execution_count": null,
   "metadata": {},
   "outputs": [],
   "source": [
    "var_2016 = pd.read_csv(r'D:\\Projects\\SDL_WHR\\2016.csv',index_col = \"Country\")\n",
    "var_2016 = pd.DataFrame(var_2016)\n",
    "var_2016 = var_2016.rename({'Country': 'C',\n",
    "                            'Region': 'R', \n",
    "                            'Happiness Rank': 'HR', \n",
    "                            'Happiness Score': 'HS',\n",
    "                            'Lower Confidence Interval':'LCI',\n",
    "                            'Upper Confidence Interval':'UCI',\n",
    "                            'Economy (GDP per Capita)':'EC',\n",
    "                            'Family':'FA',\n",
    "                            'Health (Life Expectancy)':'HE',\n",
    "                            'Freedom':'FR',\n",
    "                            'Trust (Government Corruption)':'TR',\n",
    "                            'Generosity':'GN',\n",
    "                            'Dystopia Residual':'DR'},\n",
    "                            axis=1)\n",
    "display(var_2016)"
   ]
  },
  {
   "cell_type": "markdown",
   "metadata": {},
   "source": [
    "<font color = \"red\">\n",
    "#2017 dataset converted to DataFrame"
   ]
  },
  {
   "cell_type": "code",
   "execution_count": null,
   "metadata": {},
   "outputs": [],
   "source": [
    "var_2017 = pd.read_csv(r'D:\\Projects\\SDL_WHR\\2017.csv') #index_col = \"Country\")\n",
    "var_2017 = pd.DataFrame(var_2017)\n",
    "var_2017 = var_2017.rename({'Country': 'C',\n",
    "                            'Happiness.Rank': 'HR',\n",
    "                            'Happiness.Score': 'HS',\n",
    "                            'Whisker.high':'WH',\n",
    "                            'Whisker.low':'WL',\n",
    "                            'Economy..GDP.per.Capita.':'EC',\n",
    "                            'Family':'FA',\n",
    "                            'Health..Life.Expectancy.':'HE',\n",
    "                            'Freedom':'FR',\n",
    "                            'Trust..Government.Corruption.':'TR',\n",
    "                            'Generosity':'GN',\n",
    "                            'Dystopia.Residual':'DR'},\n",
    "                           axis=1)\n",
    "display(var_2017)"
   ]
  },
  {
   "cell_type": "markdown",
   "metadata": {},
   "source": [
    "<font color = \"red\">Summary of 2015 dataset</font>"
   ]
  },
  {
   "cell_type": "code",
   "execution_count": null,
   "metadata": {},
   "outputs": [],
   "source": [
    "desc_2015 = var_2015.describe()\n",
    "display(desc_2015)"
   ]
  },
  {
   "cell_type": "markdown",
   "metadata": {},
   "source": [
    "<font color = \"red\">Summary of 2016 dataset</font>"
   ]
  },
  {
   "cell_type": "code",
   "execution_count": null,
   "metadata": {},
   "outputs": [],
   "source": [
    "desc_2016 = var_2016.describe()\n",
    "display(desc_2016)"
   ]
  },
  {
   "cell_type": "markdown",
   "metadata": {},
   "source": [
    "<font color = \"red\">Summary of 2017 dataset</font>"
   ]
  },
  {
   "cell_type": "code",
   "execution_count": null,
   "metadata": {},
   "outputs": [],
   "source": [
    "desc_2017 = var_2017.describe()\n",
    "display(desc_2017)"
   ]
  },
  {
   "cell_type": "markdown",
   "metadata": {},
   "source": [
    "# Graphs\n"
   ]
  },
  {
   "cell_type": "markdown",
   "metadata": {},
   "source": [
    "<font color = \"green\" size = \"5\">Mean Happiness vs Year</font>"
   ]
  },
  {
   "cell_type": "code",
   "execution_count": null,
   "metadata": {},
   "outputs": [],
   "source": [
    "%matplotlib inline\n",
    "plt.rcParams['figure.figsize'] = [7,7]\n",
    "x = ['2015','2016','2017']\n",
    "y1 = desc_2015['HS']['mean']\n",
    "y2 = desc_2016['HS']['mean']\n",
    "y3 = desc_2017['HS']['mean']\n",
    "y = [y1,y2,y3]\n",
    "plt.plot(x,y,linestyle = '-',marker = 'o', color = 'g')\n",
    "plt.xlabel(\"Year\")\n",
    "plt.ylabel(\"Mean Happiness Score\")\n",
    "plt.title(\"Mean Happiness vs Year\")\n",
    "plt.show()"
   ]
  },
  {
   "cell_type": "markdown",
   "metadata": {},
   "source": [
    "<font color = \"green\" size = \"5\">Maximum/Minimum HS yearwise</font>"
   ]
  },
  {
   "cell_type": "code",
   "execution_count": null,
   "metadata": {},
   "outputs": [],
   "source": [
    "%matplotlib inline\n",
    "plt.rcParams['figure.figsize'] = [7,7]\n",
    "\n",
    "x = ['2015','2016','2017']\n",
    "ymax1 = desc_2015['HS']['max']\n",
    "ymax2 = desc_2016['HS']['max']\n",
    "ymax3 = desc_2017['HS']['max']\n",
    "ymax = [ymax1,ymax2,ymax3]\n",
    "\n",
    "ymin1 = desc_2015['HS']['min']\n",
    "ymin2 = desc_2016['HS']['min']\n",
    "ymin3 = desc_2017['HS']['min']\n",
    "ymin = [ymin1,ymin2,ymin3]\n",
    "\n",
    "plt.plot(x,ymax,linestyle = '-',marker = 'o', color = 'b',label = 'Maximum HS')\n",
    "plt.plot(x,ymin,linestyle = '-',marker = 'o', color = 'r',label = 'Minimum HS')\n",
    "\n",
    "for i,j in zip(x,ymax):\n",
    "    plt.annotate(str(j),xy=(i,j),xytext=(-15,-15), textcoords='offset points')\n",
    "\n",
    "for i,j in zip(x,ymin):\n",
    "    plt.annotate(str(j),xy=(i,j),xytext=(2,15), textcoords='offset points')\n",
    "    \n",
    "plt.xlabel(\"Year\")\n",
    "plt.ylabel(\"Happiness Score\")\n",
    "plt.title('Max/Min Happiness Scores Yearwise')\n",
    "plt.legend()\n",
    "plt.show()"
   ]
  },
  {
   "cell_type": "markdown",
   "metadata": {},
   "source": [
    "<font color = \"green\" size = \"5\">Country level analysis</font>\n",
    "\n",
    "Enter the name of the country to find the 3 year analysis!"
   ]
  },
  {
   "cell_type": "code",
   "execution_count": null,
   "metadata": {},
   "outputs": [],
   "source": [
    "%matplotlib inline\n",
    "f = input(\"Enter the name of the country : \")\n",
    "\n",
    "plt.rcParams['figure.figsize'] = [10,10]\n",
    "\n",
    "c1 = var_2015.loc[f]\n",
    "c2 = var_2016.loc[f]\n",
    "c3 = var_2017.loc[f]\n",
    "\n",
    "leg = ['Economy','Family','Health','Freedom','Trust','Generosity']\n",
    "\n",
    "c1 = [c1['HR'],c1['EC'],c1['FA'],c1['HE'],c1['FR'],c1['TR'],c1['GN']]\n",
    "c2 = [c2['HR'],c2['EC'],c2['FA'],c2['HE'],c2['FR'],c2['TR'],c2['GN']]\n",
    "c3 = [c3['HR'],c3['EC'],c3['FA'],c3['HE'],c3['FR'],c3['TR'],c3['GN']]\n",
    "\n",
    "for i in range(1,6):\n",
    "    plt.plot(['2015','2016','2017'],[c1[i],c2[i],c3[i]], marker = 'o' , label = leg[i])\n",
    "\n",
    "plt.title('Country level analysis of : %s'%f)\n",
    "plt.xlabel('Year')\n",
    "plt.ylabel('Units')\n",
    "plt.legend()\n",
    "plt.show()"
   ]
  },
  {
   "cell_type": "markdown",
   "metadata": {},
   "source": [
    "<font color = \"green\" size = \"5\">Comparision between 2 countries depending on the 6 features</font>"
   ]
  },
  {
   "cell_type": "code",
   "execution_count": null,
   "metadata": {},
   "outputs": [],
   "source": [
    "import matplotlib.pyplot as plt\n",
    "f1 = input(\"Enter the 1st Country : \")\n",
    "f2 = input(\"Enter the 2nd Country : \")\n",
    "f = [f1,f2]\n",
    "\n",
    "plt.rcParams['figure.figsize'] = [10,10]\n",
    "fig ,axs = plt.subplots(1,2)\n",
    "\n",
    "for j in range(2):\n",
    "    c1 = var_2015.loc[f[j]]\n",
    "    c2 = var_2016.loc[f[j]]\n",
    "    c3 = var_2017.loc[f[j]]\n",
    "\n",
    "    leg = ['Economy','Family','Health','Freedom','Trust','Generosity']\n",
    "\n",
    "    c1 = [c1['HR'],c1['EC'],c1['FA'],c1['HE'],c1['FR'],c1['TR'],c1['GN']]\n",
    "    c2 = [c2['HR'],c2['EC'],c2['FA'],c2['HE'],c2['FR'],c2['TR'],c2['GN']]\n",
    "    c3 = [c3['HR'],c3['EC'],c3['FA'],c3['HE'],c3['FR'],c3['TR'],c3['GN']]\n",
    "\n",
    "    for i in range(1,6):\n",
    "        axs[j].plot(['2015','2016','2017'],[c1[i],c2[i],c3[i]], marker = 'o' , label = leg[i])\n",
    "        axs[j].legend\n",
    "        \n",
    "    axs[j].set_title(\"%s\"%f[j])\n",
    "for axs in axs.flat:\n",
    "    axs.set(xlabel = 'Years' , ylabel = 'Units')"
   ]
  },
  {
   "cell_type": "markdown",
   "metadata": {},
   "source": [
    "<font color = \"Green\" size = 5>Scatter Plots : Relation between 2 features </font>"
   ]
  },
  {
   "cell_type": "code",
   "execution_count": null,
   "metadata": {},
   "outputs": [],
   "source": [
    "%matplotlib inline\n",
    "import matplotlib.pyplot as plt\n",
    "features = ['HS','EC','FA','HE','FR','TR','GN']\n",
    "choice1 = int(input(\"Enter the 1st Feature : \"))\n",
    "choice2 = int(input(\"Enter the 2nd Feature : \"))\n",
    "\n",
    "\n",
    "plt.scatter(var_2015[features[choice1]],var_2015[features[choice2]])\n",
    "\n",
    "plt.xlabel(\"%s\"%features[choice1])\n",
    "plt.ylabel(\"%s\"%features[choice2])\n",
    "plt.title(\"%s VS %s\"%(features[choice1],features[choice2]))\n",
    "plt.show()\n"
   ]
  },
  {
   "cell_type": "markdown",
   "metadata": {},
   "source": [
    "<font color = \"green\" size = 5>3 variable visualisation with Happiness Score</font>"
   ]
  },
  {
   "cell_type": "code",
   "execution_count": null,
   "metadata": {},
   "outputs": [],
   "source": [
    "import plotly.express as px\n",
    "\n",
    "features = ['HS','EC','FA','HE','FR','TR','GN']\n",
    "x = int(input(\"Enter the first variable : \"))\n",
    "y = int(input(\"Enter the second variable : \"))\n",
    "z = int(input(\"Enter the third variable : \"))\n",
    "\n",
    "\n",
    "fig = px.scatter_3d(var_2015, x=features[x], y=features[y],z = features[z], color='HS',opacity=0.9)\n",
    "fig.show()"
   ]
  },
  {
   "cell_type": "markdown",
   "metadata": {},
   "source": [
    "<font color = green size = 5>World Map for Spread of Happiness</font>"
   ]
  },
  {
   "cell_type": "code",
   "execution_count": null,
   "metadata": {},
   "outputs": [],
   "source": [
    "\n",
    "import plotly as py\n",
    "import plotly.graph_objs as go\n",
    "from plotly.offline import download_plotlyjs, init_notebook_mode, plot, iplot\n",
    "init_notebook_mode(connected=True)\n",
    "\n",
    "data = dict(type = 'choropleth', \n",
    "           locations = var_2017['C'],\n",
    "           locationmode = 'country names',\n",
    "           z = var_2017['HS'], \n",
    "           text = var_2017['C'],\n",
    "           colorbar = {'title':'Happiness'})\n",
    "layout = dict(title = 'Happiness Index 2017', \n",
    "             geo = dict(showframe = False, \n",
    "                       projection = {'type': 'mercator'}))\n",
    "\n",
    "choromap3 = go.Figure(data = [data], layout=layout)\n",
    "py.offline.iplot(choromap3)"
   ]
  },
  {
   "cell_type": "code",
   "execution_count": null,
   "metadata": {},
   "outputs": [],
   "source": [
    "x = var_2015['HS']\n",
    "plt.hist(x)\n",
    "plt.show()"
   ]
  }
 ],
 "metadata": {
  "kernelspec": {
   "display_name": "Python 3",
   "language": "python",
   "name": "python3"
  },
  "language_info": {
   "codemirror_mode": {
    "name": "ipython",
    "version": 3
   },
   "file_extension": ".py",
   "mimetype": "text/x-python",
   "name": "python",
   "nbconvert_exporter": "python",
   "pygments_lexer": "ipython3",
   "version": "3.7.1"
  }
 },
 "nbformat": 4,
 "nbformat_minor": 2
}
